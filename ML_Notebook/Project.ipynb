{
 "cells": [
  {
   "cell_type": "code",
   "execution_count": 1,
   "id": "8e21f5d0-c5a4-434f-ad8b-88e888ff2e05",
   "metadata": {},
   "outputs": [],
   "source": [
    "# from pandas_profiling import ProfileReport as pr\n",
    "import pandas as pd\n",
    "import numpy as np\n",
    "import warnings\n",
    "warnings.filterwarnings('ignore')"
   ]
  },
  {
   "cell_type": "code",
   "execution_count": 2,
   "id": "f3244f57-d391-4b6b-9b94-b637a582dec4",
   "metadata": {},
   "outputs": [],
   "source": [
    "df = pd.read_csv(r'ds_salaries.csv')"
   ]
  },
  {
   "cell_type": "code",
   "execution_count": 3,
   "id": "d6079ee0",
   "metadata": {},
   "outputs": [],
   "source": [
    "# pr(df)"
   ]
  },
  {
   "cell_type": "code",
   "execution_count": 4,
   "id": "406eb273-8c09-40c4-bce2-1ea6e746d73e",
   "metadata": {},
   "outputs": [
    {
     "data": {
      "text/html": [
       "<div>\n",
       "<style scoped>\n",
       "    .dataframe tbody tr th:only-of-type {\n",
       "        vertical-align: middle;\n",
       "    }\n",
       "\n",
       "    .dataframe tbody tr th {\n",
       "        vertical-align: top;\n",
       "    }\n",
       "\n",
       "    .dataframe thead th {\n",
       "        text-align: right;\n",
       "    }\n",
       "</style>\n",
       "<table border=\"1\" class=\"dataframe\">\n",
       "  <thead>\n",
       "    <tr style=\"text-align: right;\">\n",
       "      <th></th>\n",
       "      <th>work_year</th>\n",
       "      <th>experience_level</th>\n",
       "      <th>employment_type</th>\n",
       "      <th>job_title</th>\n",
       "      <th>salary</th>\n",
       "      <th>salary_currency</th>\n",
       "      <th>salary_in_usd</th>\n",
       "      <th>employee_residence</th>\n",
       "      <th>remote_ratio</th>\n",
       "      <th>company_location</th>\n",
       "      <th>company_size</th>\n",
       "    </tr>\n",
       "  </thead>\n",
       "  <tbody>\n",
       "    <tr>\n",
       "      <th>0</th>\n",
       "      <td>2020</td>\n",
       "      <td>MI</td>\n",
       "      <td>FT</td>\n",
       "      <td>Data Scientist</td>\n",
       "      <td>70000</td>\n",
       "      <td>EUR</td>\n",
       "      <td>79833</td>\n",
       "      <td>DE</td>\n",
       "      <td>0</td>\n",
       "      <td>DE</td>\n",
       "      <td>L</td>\n",
       "    </tr>\n",
       "    <tr>\n",
       "      <th>1</th>\n",
       "      <td>2020</td>\n",
       "      <td>SE</td>\n",
       "      <td>FT</td>\n",
       "      <td>Machine Learning Scientist</td>\n",
       "      <td>260000</td>\n",
       "      <td>USD</td>\n",
       "      <td>260000</td>\n",
       "      <td>JP</td>\n",
       "      <td>0</td>\n",
       "      <td>JP</td>\n",
       "      <td>S</td>\n",
       "    </tr>\n",
       "    <tr>\n",
       "      <th>2</th>\n",
       "      <td>2020</td>\n",
       "      <td>SE</td>\n",
       "      <td>FT</td>\n",
       "      <td>Big Data Engineer</td>\n",
       "      <td>85000</td>\n",
       "      <td>GBP</td>\n",
       "      <td>109024</td>\n",
       "      <td>GB</td>\n",
       "      <td>50</td>\n",
       "      <td>GB</td>\n",
       "      <td>M</td>\n",
       "    </tr>\n",
       "    <tr>\n",
       "      <th>3</th>\n",
       "      <td>2020</td>\n",
       "      <td>MI</td>\n",
       "      <td>FT</td>\n",
       "      <td>Product Data Analyst</td>\n",
       "      <td>20000</td>\n",
       "      <td>USD</td>\n",
       "      <td>20000</td>\n",
       "      <td>HN</td>\n",
       "      <td>0</td>\n",
       "      <td>HN</td>\n",
       "      <td>S</td>\n",
       "    </tr>\n",
       "    <tr>\n",
       "      <th>4</th>\n",
       "      <td>2020</td>\n",
       "      <td>SE</td>\n",
       "      <td>FT</td>\n",
       "      <td>Machine Learning Engineer</td>\n",
       "      <td>150000</td>\n",
       "      <td>USD</td>\n",
       "      <td>150000</td>\n",
       "      <td>US</td>\n",
       "      <td>50</td>\n",
       "      <td>US</td>\n",
       "      <td>L</td>\n",
       "    </tr>\n",
       "  </tbody>\n",
       "</table>\n",
       "</div>"
      ],
      "text/plain": [
       "   work_year experience_level employment_type                   job_title  \\\n",
       "0       2020               MI              FT              Data Scientist   \n",
       "1       2020               SE              FT  Machine Learning Scientist   \n",
       "2       2020               SE              FT           Big Data Engineer   \n",
       "3       2020               MI              FT        Product Data Analyst   \n",
       "4       2020               SE              FT   Machine Learning Engineer   \n",
       "\n",
       "   salary salary_currency  salary_in_usd employee_residence  remote_ratio  \\\n",
       "0   70000             EUR          79833                 DE             0   \n",
       "1  260000             USD         260000                 JP             0   \n",
       "2   85000             GBP         109024                 GB            50   \n",
       "3   20000             USD          20000                 HN             0   \n",
       "4  150000             USD         150000                 US            50   \n",
       "\n",
       "  company_location company_size  \n",
       "0               DE            L  \n",
       "1               JP            S  \n",
       "2               GB            M  \n",
       "3               HN            S  \n",
       "4               US            L  "
      ]
     },
     "execution_count": 4,
     "metadata": {},
     "output_type": "execute_result"
    }
   ],
   "source": [
    "df.head()"
   ]
  },
  {
   "cell_type": "code",
   "execution_count": 5,
   "id": "efd95626",
   "metadata": {
    "scrolled": true
   },
   "outputs": [
    {
     "data": {
      "text/html": [
       "<div>\n",
       "<style scoped>\n",
       "    .dataframe tbody tr th:only-of-type {\n",
       "        vertical-align: middle;\n",
       "    }\n",
       "\n",
       "    .dataframe tbody tr th {\n",
       "        vertical-align: top;\n",
       "    }\n",
       "\n",
       "    .dataframe thead th {\n",
       "        text-align: right;\n",
       "    }\n",
       "</style>\n",
       "<table border=\"1\" class=\"dataframe\">\n",
       "  <thead>\n",
       "    <tr style=\"text-align: right;\">\n",
       "      <th></th>\n",
       "      <th>work_year</th>\n",
       "      <th>experience_level</th>\n",
       "      <th>employment_type</th>\n",
       "      <th>job_title</th>\n",
       "      <th>salary</th>\n",
       "      <th>salary_currency</th>\n",
       "      <th>salary_in_usd</th>\n",
       "      <th>employee_residence</th>\n",
       "      <th>remote_ratio</th>\n",
       "      <th>company_location</th>\n",
       "      <th>company_size</th>\n",
       "    </tr>\n",
       "  </thead>\n",
       "  <tbody>\n",
       "    <tr>\n",
       "      <th>0</th>\n",
       "      <td>2020</td>\n",
       "      <td>MI</td>\n",
       "      <td>FT</td>\n",
       "      <td>Data Scientist</td>\n",
       "      <td>70000</td>\n",
       "      <td>EUR</td>\n",
       "      <td>79833</td>\n",
       "      <td>DE</td>\n",
       "      <td>0</td>\n",
       "      <td>DE</td>\n",
       "      <td>L</td>\n",
       "    </tr>\n",
       "    <tr>\n",
       "      <th>1</th>\n",
       "      <td>2020</td>\n",
       "      <td>SE</td>\n",
       "      <td>FT</td>\n",
       "      <td>Machine Learning Scientist</td>\n",
       "      <td>260000</td>\n",
       "      <td>USD</td>\n",
       "      <td>260000</td>\n",
       "      <td>JP</td>\n",
       "      <td>0</td>\n",
       "      <td>JP</td>\n",
       "      <td>S</td>\n",
       "    </tr>\n",
       "    <tr>\n",
       "      <th>2</th>\n",
       "      <td>2020</td>\n",
       "      <td>SE</td>\n",
       "      <td>FT</td>\n",
       "      <td>Big Data Engineer</td>\n",
       "      <td>85000</td>\n",
       "      <td>GBP</td>\n",
       "      <td>109024</td>\n",
       "      <td>GB</td>\n",
       "      <td>50</td>\n",
       "      <td>GB</td>\n",
       "      <td>M</td>\n",
       "    </tr>\n",
       "    <tr>\n",
       "      <th>3</th>\n",
       "      <td>2020</td>\n",
       "      <td>MI</td>\n",
       "      <td>FT</td>\n",
       "      <td>Product Data Analyst</td>\n",
       "      <td>20000</td>\n",
       "      <td>USD</td>\n",
       "      <td>20000</td>\n",
       "      <td>HN</td>\n",
       "      <td>0</td>\n",
       "      <td>HN</td>\n",
       "      <td>S</td>\n",
       "    </tr>\n",
       "    <tr>\n",
       "      <th>4</th>\n",
       "      <td>2020</td>\n",
       "      <td>SE</td>\n",
       "      <td>FT</td>\n",
       "      <td>Machine Learning Engineer</td>\n",
       "      <td>150000</td>\n",
       "      <td>USD</td>\n",
       "      <td>150000</td>\n",
       "      <td>US</td>\n",
       "      <td>50</td>\n",
       "      <td>US</td>\n",
       "      <td>L</td>\n",
       "    </tr>\n",
       "  </tbody>\n",
       "</table>\n",
       "</div>"
      ],
      "text/plain": [
       "   work_year experience_level employment_type                   job_title  \\\n",
       "0       2020               MI              FT              Data Scientist   \n",
       "1       2020               SE              FT  Machine Learning Scientist   \n",
       "2       2020               SE              FT           Big Data Engineer   \n",
       "3       2020               MI              FT        Product Data Analyst   \n",
       "4       2020               SE              FT   Machine Learning Engineer   \n",
       "\n",
       "   salary salary_currency  salary_in_usd employee_residence  remote_ratio  \\\n",
       "0   70000             EUR          79833                 DE             0   \n",
       "1  260000             USD         260000                 JP             0   \n",
       "2   85000             GBP         109024                 GB            50   \n",
       "3   20000             USD          20000                 HN             0   \n",
       "4  150000             USD         150000                 US            50   \n",
       "\n",
       "  company_location company_size  \n",
       "0               DE            L  \n",
       "1               JP            S  \n",
       "2               GB            M  \n",
       "3               HN            S  \n",
       "4               US            L  "
      ]
     },
     "execution_count": 5,
     "metadata": {},
     "output_type": "execute_result"
    }
   ],
   "source": [
    "df.head()"
   ]
  },
  {
   "cell_type": "code",
   "execution_count": 6,
   "id": "954fd226",
   "metadata": {},
   "outputs": [
    {
     "data": {
      "text/plain": [
       "(607, 11)"
      ]
     },
     "execution_count": 6,
     "metadata": {},
     "output_type": "execute_result"
    }
   ],
   "source": [
    "df.shape"
   ]
  },
  {
   "cell_type": "code",
   "execution_count": 7,
   "id": "8a389737",
   "metadata": {},
   "outputs": [
    {
     "data": {
      "text/plain": [
       "array([2020, 2021, 2022], dtype=int64)"
      ]
     },
     "execution_count": 7,
     "metadata": {},
     "output_type": "execute_result"
    }
   ],
   "source": [
    "df['work_year'].unique()"
   ]
  },
  {
   "cell_type": "code",
   "execution_count": 8,
   "id": "9219ac56",
   "metadata": {},
   "outputs": [
    {
     "name": "stdout",
     "output_type": "stream",
     "text": [
      "<class 'pandas.core.frame.DataFrame'>\n",
      "RangeIndex: 607 entries, 0 to 606\n",
      "Data columns (total 11 columns):\n",
      " #   Column              Non-Null Count  Dtype \n",
      "---  ------              --------------  ----- \n",
      " 0   work_year           607 non-null    int64 \n",
      " 1   experience_level    607 non-null    object\n",
      " 2   employment_type     607 non-null    object\n",
      " 3   job_title           607 non-null    object\n",
      " 4   salary              607 non-null    int64 \n",
      " 5   salary_currency     607 non-null    object\n",
      " 6   salary_in_usd       607 non-null    int64 \n",
      " 7   employee_residence  607 non-null    object\n",
      " 8   remote_ratio        607 non-null    int64 \n",
      " 9   company_location    607 non-null    object\n",
      " 10  company_size        607 non-null    object\n",
      "dtypes: int64(4), object(7)\n",
      "memory usage: 52.3+ KB\n"
     ]
    }
   ],
   "source": [
    "df.info()"
   ]
  },
  {
   "cell_type": "markdown",
   "id": "9730d4e6-c0ed-4520-94c4-2d4c33ac19ab",
   "metadata": {},
   "source": [
    "# Preprocessing"
   ]
  },
  {
   "cell_type": "code",
   "execution_count": 9,
   "id": "739af58d",
   "metadata": {},
   "outputs": [
    {
     "data": {
      "text/plain": [
       "work_year              int64\n",
       "experience_level      object\n",
       "employment_type       object\n",
       "job_title             object\n",
       "salary                 int64\n",
       "salary_currency       object\n",
       "salary_in_usd          int64\n",
       "employee_residence    object\n",
       "remote_ratio           int64\n",
       "company_location      object\n",
       "company_size          object\n",
       "dtype: object"
      ]
     },
     "execution_count": 9,
     "metadata": {},
     "output_type": "execute_result"
    }
   ],
   "source": [
    "df.dtypes"
   ]
  },
  {
   "cell_type": "code",
   "execution_count": 10,
   "id": "aee1f2f0",
   "metadata": {},
   "outputs": [
    {
     "data": {
      "text/plain": [
       "array(['MI', 'SE', 'EN', 'EX'], dtype=object)"
      ]
     },
     "execution_count": 10,
     "metadata": {},
     "output_type": "execute_result"
    }
   ],
   "source": [
    "df.experience_level.unique()"
   ]
  },
  {
   "cell_type": "markdown",
   "id": "e6191fe4",
   "metadata": {},
   "source": [
    "The Meaning of the Values are as follows:\n",
    "\n",
    "- EN Entry-level / Junior \n",
    "- MI Mid-level / Intermediate \n",
    "- SE Senior-level / Expert \n",
    "- EX Executive-level / Director\"\t\t\t"
   ]
  },
  {
   "cell_type": "code",
   "execution_count": 11,
   "id": "2b98da48",
   "metadata": {},
   "outputs": [
    {
     "data": {
      "text/plain": [
       "array(['FT', 'CT', 'PT', 'FL'], dtype=object)"
      ]
     },
     "execution_count": 11,
     "metadata": {},
     "output_type": "execute_result"
    }
   ],
   "source": [
    "df.employment_type.unique()"
   ]
  },
  {
   "cell_type": "markdown",
   "id": "d3ae67da",
   "metadata": {},
   "source": [
    "The Meaning of the Values are as follows:\n",
    "\n",
    "- PT Part-time \n",
    "- FT Full-time \n",
    "- CT Contract \n",
    "- FL Freelance"
   ]
  },
  {
   "cell_type": "code",
   "execution_count": 12,
   "id": "0379f2ec",
   "metadata": {},
   "outputs": [
    {
     "data": {
      "text/plain": [
       "array([2020, 2021, 2022], dtype=int64)"
      ]
     },
     "execution_count": 12,
     "metadata": {},
     "output_type": "execute_result"
    }
   ],
   "source": [
    "df['work_year'].unique()"
   ]
  },
  {
   "cell_type": "markdown",
   "id": "df1fc778",
   "metadata": {},
   "source": [
    "# Exploratory Data Analysis"
   ]
  },
  {
   "cell_type": "code",
   "execution_count": 13,
   "id": "e04f2dc9",
   "metadata": {},
   "outputs": [],
   "source": [
    "import matplotlib.pyplot as plt\n",
    "import seaborn as sns"
   ]
  },
  {
   "cell_type": "markdown",
   "id": "ce8e9d53",
   "metadata": {},
   "source": [
    "### 1"
   ]
  },
  {
   "cell_type": "code",
   "execution_count": 14,
   "id": "306fbc10",
   "metadata": {},
   "outputs": [
    {
     "data": {
      "text/plain": [
       "Index(['work_year', 'experience_level', 'employment_type', 'job_title',\n",
       "       'salary', 'salary_currency', 'salary_in_usd', 'employee_residence',\n",
       "       'remote_ratio', 'company_location', 'company_size'],\n",
       "      dtype='object')"
      ]
     },
     "execution_count": 14,
     "metadata": {},
     "output_type": "execute_result"
    }
   ],
   "source": [
    "df.columns"
   ]
  },
  {
   "cell_type": "code",
   "execution_count": 15,
   "id": "629d0b38",
   "metadata": {},
   "outputs": [
    {
     "data": {
      "image/png": "[encoded data removed]",
      "text/plain": [
       "<Figure size 1080x576 with 1 Axes>"
      ]
     },
     "metadata": {
      "needs_background": "light"
     },
     "output_type": "display_data"
    }
   ],
   "source": [
    "temp = df.groupby(['job_title'])['salary_in_usd'].mean().reset_index().sort_values('salary_in_usd',\n",
    "                                                                                   ascending=False).head(10)\n",
    "\n",
    "f, ax = plt.subplots(figsize=(15, 8))\n",
    "sns.set_color_codes(\"pastel\")\n",
    "sns.barplot(x='job_title',y='salary_in_usd',data=temp,color='b')\n",
    "plt.xticks(rotation=45)\n",
    "plt.show()"
   ]
  },
  {
   "cell_type": "code",
   "execution_count": 16,
   "id": "19ff143b",
   "metadata": {},
   "outputs": [
    {
     "data": {
      "image/png": "[encoded data removed]",
      "text/plain": [
       "<Figure size 1080x576 with 1 Axes>"
      ]
     },
     "metadata": {
      "needs_background": "light"
     },
     "output_type": "display_data"
    }
   ],
   "source": [
    "temp_2 = df.groupby(['company_location'])['salary_in_usd'].mean().reset_index().sort_values('salary_in_usd',\n",
    "                                                                                   ascending=False).head(10)\n",
    "\n",
    "f, ax = plt.subplots(figsize=(15, 8))\n",
    "sns.set_color_codes(\"pastel\")\n",
    "sns.barplot(x='company_location',y='salary_in_usd',data=temp_2,color='b')\n",
    "plt.xticks(rotation=45)\n",
    "plt.show()"
   ]
  },
  {
   "cell_type": "code",
   "execution_count": 17,
   "id": "ddeede54",
   "metadata": {},
   "outputs": [
    {
     "data": {
      "image/png": "[encoded data removed]",
      "text/plain": [
       "<Figure size 698.375x360 with 1 Axes>"
      ]
     },
     "metadata": {
      "needs_background": "light"
     },
     "output_type": "display_data"
    }
   ],
   "source": [
    "temp_3 = df.groupby(['job_title','company_location'])['salary_in_usd'].mean().reset_index().sort_values('salary_in_usd',\n",
    "                                                                                                        ascending=False)\n",
    "temp_4 = temp_3.loc[(temp_3.job_title.isin(temp['job_title'].unique()))]\n",
    "#            & (temp_3.company_location.isin([temp_2['company_location'].unique()]))]\n",
    "\n",
    "# sns.set_color_codes(\"pastel\")\n",
    "# sns.catplot(x='job_title',y='salary_in_usd',data=temp_3,hue='company_location',color='b')\n",
    "# sns.catplot(\n",
    "#     data=penguins, kind=\"bar\",\n",
    "#     x=\"species\", y=\"body_mass_g\", hue=\"sex\",\n",
    "#     errorbar=\"sd\", palette=\"dark\", alpha=.6, height=6\n",
    "# )\n",
    "\n",
    "\n",
    "sns.catplot(\n",
    "    data=temp_4, kind=\"bar\",\n",
    "    x=\"job_title\", y=\"salary_in_usd\", hue=\"company_location\", palette=\"dark\", alpha=.9, height=5, aspect=50/30\n",
    ")\n",
    "plt.xticks(rotation=45)\n",
    "plt.show()\n",
    "# g.despine(left=True)\n",
    "# g.set_axis_labels(\"\", \"Salary in USD\")\n",
    "# g.legend.set_title(\"\")\n",
    "\n",
    "\n",
    "\n"
   ]
  },
  {
   "cell_type": "markdown",
   "id": "3a2e0dd0",
   "metadata": {},
   "source": [
    "### 2"
   ]
  },
  {
   "cell_type": "code",
   "execution_count": 18,
   "id": "c4eb6a0f",
   "metadata": {},
   "outputs": [
    {
     "data": {
      "text/plain": [
       "Index(['work_year', 'experience_level', 'employment_type', 'job_title',\n",
       "       'salary', 'salary_currency', 'salary_in_usd', 'employee_residence',\n",
       "       'remote_ratio', 'company_location', 'company_size'],\n",
       "      dtype='object')"
      ]
     },
     "execution_count": 18,
     "metadata": {},
     "output_type": "execute_result"
    }
   ],
   "source": [
    "df.columns"
   ]
  },
  {
   "cell_type": "code",
   "execution_count": 19,
   "id": "c15c8269",
   "metadata": {},
   "outputs": [
    {
     "data": {
      "image/png": "[encoded data removed]",
      "text/plain": [
       "<Figure size 720x432 with 1 Axes>"
      ]
     },
     "metadata": {
      "needs_background": "light"
     },
     "output_type": "display_data"
    }
   ],
   "source": [
    "temp = df.groupby(['company_size'])['salary_in_usd'].mean().reset_index().sort_values('salary_in_usd',ascending=False)\n",
    "\n",
    "f, ax = plt.subplots(figsize=(10, 6))\n",
    "sns.set_color_codes(\"pastel\")\n",
    "sns.barplot(x='company_size',y='salary_in_usd',data=temp,color='b')\n",
    "plt.xticks(rotation=45)\n",
    "plt.show()\n"
   ]
  },
  {
   "cell_type": "code",
   "execution_count": 20,
   "id": "c8fbb355",
   "metadata": {},
   "outputs": [
    {
     "data": {
      "image/png": "[encoded data removed]",
      "text/plain": [
       "<Figure size 678.125x360 with 1 Axes>"
      ]
     },
     "metadata": {
      "needs_background": "light"
     },
     "output_type": "display_data"
    }
   ],
   "source": [
    "temp = df.groupby(['job_title','company_size'])['salary_in_usd'].mean().reset_index().sort_values('salary_in_usd',ascending=False)\n",
    "\n",
    "dic = {}\n",
    "for i in temp.job_title:\n",
    "    temp_1 = len(temp.loc[temp.job_title == i,'company_size'].unique())\n",
    "    dic[i] = temp_1\n",
    "        \n",
    "\n",
    "def count(x):\n",
    "    return dic[x]\n",
    "\n",
    "temp['count'] = temp['job_title'].apply(lambda x: count(x))\n",
    "\n",
    "any5 = temp.loc[temp['count']==3,'job_title'].unique()[:6]\n",
    "temp_2 = temp[temp['job_title'].isin(any5)].drop('count',axis=1)\n",
    "\n",
    "sns.catplot(\n",
    "    data=temp_2, kind=\"bar\",\n",
    "    x=\"job_title\", y=\"salary_in_usd\", hue=\"company_size\", palette=\"dark\", alpha=.9, height=5, aspect=50/30\n",
    ")\n",
    "plt.xticks(rotation=20)\n",
    "plt.show()\n"
   ]
  },
  {
   "cell_type": "markdown",
   "id": "35faa6dd",
   "metadata": {},
   "source": [
    "## 3"
   ]
  },
  {
   "cell_type": "code",
   "execution_count": 21,
   "id": "bdc66930",
   "metadata": {
    "scrolled": true
   },
   "outputs": [
    {
     "data": {
      "text/html": [
       "<div>\n",
       "<style scoped>\n",
       "    .dataframe tbody tr th:only-of-type {\n",
       "        vertical-align: middle;\n",
       "    }\n",
       "\n",
       "    .dataframe tbody tr th {\n",
       "        vertical-align: top;\n",
       "    }\n",
       "\n",
       "    .dataframe thead th {\n",
       "        text-align: right;\n",
       "    }\n",
       "</style>\n",
       "<table border=\"1\" class=\"dataframe\">\n",
       "  <thead>\n",
       "    <tr style=\"text-align: right;\">\n",
       "      <th></th>\n",
       "      <th>job_title</th>\n",
       "      <th>work_year</th>\n",
       "      <th>salary_in_usd</th>\n",
       "    </tr>\n",
       "  </thead>\n",
       "  <tbody>\n",
       "    <tr>\n",
       "      <th>0</th>\n",
       "      <td>3D Computer Vision Researcher</td>\n",
       "      <td>2021</td>\n",
       "      <td>5409.00</td>\n",
       "    </tr>\n",
       "    <tr>\n",
       "      <th>1</th>\n",
       "      <td>AI Scientist</td>\n",
       "      <td>2020</td>\n",
       "      <td>45896.00</td>\n",
       "    </tr>\n",
       "    <tr>\n",
       "      <th>2</th>\n",
       "      <td>AI Scientist</td>\n",
       "      <td>2021</td>\n",
       "      <td>24263.25</td>\n",
       "    </tr>\n",
       "    <tr>\n",
       "      <th>3</th>\n",
       "      <td>AI Scientist</td>\n",
       "      <td>2022</td>\n",
       "      <td>160000.00</td>\n",
       "    </tr>\n",
       "    <tr>\n",
       "      <th>4</th>\n",
       "      <td>Analytics Engineer</td>\n",
       "      <td>2022</td>\n",
       "      <td>175000.00</td>\n",
       "    </tr>\n",
       "    <tr>\n",
       "      <th>...</th>\n",
       "      <td>...</td>\n",
       "      <td>...</td>\n",
       "      <td>...</td>\n",
       "    </tr>\n",
       "    <tr>\n",
       "      <th>93</th>\n",
       "      <td>Product Data Analyst</td>\n",
       "      <td>2020</td>\n",
       "      <td>13036.00</td>\n",
       "    </tr>\n",
       "    <tr>\n",
       "      <th>94</th>\n",
       "      <td>Research Scientist</td>\n",
       "      <td>2020</td>\n",
       "      <td>246000.00</td>\n",
       "    </tr>\n",
       "    <tr>\n",
       "      <th>95</th>\n",
       "      <td>Research Scientist</td>\n",
       "      <td>2021</td>\n",
       "      <td>83003.60</td>\n",
       "    </tr>\n",
       "    <tr>\n",
       "      <th>96</th>\n",
       "      <td>Research Scientist</td>\n",
       "      <td>2022</td>\n",
       "      <td>105569.00</td>\n",
       "    </tr>\n",
       "    <tr>\n",
       "      <th>97</th>\n",
       "      <td>Staff Data Scientist</td>\n",
       "      <td>2021</td>\n",
       "      <td>105000.00</td>\n",
       "    </tr>\n",
       "  </tbody>\n",
       "</table>\n",
       "<p>98 rows × 3 columns</p>\n",
       "</div>"
      ],
      "text/plain": [
       "                        job_title  work_year  salary_in_usd\n",
       "0   3D Computer Vision Researcher       2021        5409.00\n",
       "1                    AI Scientist       2020       45896.00\n",
       "2                    AI Scientist       2021       24263.25\n",
       "3                    AI Scientist       2022      160000.00\n",
       "4              Analytics Engineer       2022      175000.00\n",
       "..                            ...        ...            ...\n",
       "93           Product Data Analyst       2020       13036.00\n",
       "94             Research Scientist       2020      246000.00\n",
       "95             Research Scientist       2021       83003.60\n",
       "96             Research Scientist       2022      105569.00\n",
       "97           Staff Data Scientist       2021      105000.00\n",
       "\n",
       "[98 rows x 3 columns]"
      ]
     },
     "execution_count": 21,
     "metadata": {},
     "output_type": "execute_result"
    }
   ],
   "source": [
    "temp = df.groupby(['job_title','work_year']).agg({'salary_in_usd':'mean'}).reset_index()\n",
    "temp"
   ]
  },
  {
   "cell_type": "code",
   "execution_count": 22,
   "id": "74de5c53",
   "metadata": {},
   "outputs": [],
   "source": [
    "dic = {}\n",
    "for i in temp.job_title:\n",
    "    temp_1 = len(temp.loc[temp.job_title == i,'work_year'].unique())\n",
    "    dic[i] = temp_1\n",
    "        \n",
    "\n",
    "def Noofyears(x):\n",
    "    return dic[x]\n",
    "\n",
    "temp['no_of_years'] = temp['job_title'].apply(lambda x: Noofyears(x))\n",
    "temp=temp.loc[temp['no_of_years']==3]"
   ]
  },
  {
   "cell_type": "code",
   "execution_count": 23,
   "id": "3b78babb",
   "metadata": {
    "scrolled": true
   },
   "outputs": [
    {
     "data": {
      "text/plain": [
       "array(['AI Scientist', 'Business Data Analyst',\n",
       "       'Computer Vision Engineer', 'Data Analyst', 'Data Engineer',\n",
       "       'Data Science Manager', 'Data Scientist',\n",
       "       'Director of Data Science', 'Lead Data Engineer', 'ML Engineer',\n",
       "       'Machine Learning Engineer',\n",
       "       'Machine Learning Infrastructure Engineer',\n",
       "       'Machine Learning Scientist', 'Principal Data Scientist',\n",
       "       'Research Scientist'], dtype=object)"
      ]
     },
     "execution_count": 23,
     "metadata": {},
     "output_type": "execute_result"
    }
   ],
   "source": [
    "temp[\"job_title\"].unique()"
   ]
  },
  {
   "cell_type": "code",
   "execution_count": 24,
   "id": "ae71ee59",
   "metadata": {},
   "outputs": [
    {
     "data": {
      "image/png": "[encoded data removed]",
      "text/plain": [
       "<Figure size 720x720 with 1 Axes>"
      ]
     },
     "metadata": {
      "needs_background": "light"
     },
     "output_type": "display_data"
    }
   ],
   "source": [
    "plt.figure(figsize=[10,10])\n",
    "for i in temp[\"job_title\"].unique():\n",
    "    yarr=temp.loc[temp['job_title']== i].salary_in_usd.to_numpy()\n",
    "    if yarr[1]<yarr[0]:\n",
    "        plt.plot(['2020','2021','2022'],yarr , label = i)\n",
    "plt.legend()\n",
    "plt.show()"
   ]
  },
  {
   "cell_type": "code",
   "execution_count": 25,
   "id": "c479a0dd",
   "metadata": {},
   "outputs": [
    {
     "data": {
      "image/png": "[encoded data removed]",
      "text/plain": [
       "<Figure size 720x720 with 1 Axes>"
      ]
     },
     "metadata": {
      "needs_background": "light"
     },
     "output_type": "display_data"
    }
   ],
   "source": [
    "plt.figure(figsize=[10,10])\n",
    "for i in temp[\"job_title\"].unique():\n",
    "    yarr=temp.loc[temp['job_title']== i].salary_in_usd.to_numpy()\n",
    "    if yarr[1]>yarr[0]:\n",
    "        plt.plot(['2020','2021','2022'],yarr , label = i)\n",
    "plt.legend()\n",
    "plt.show()"
   ]
  },
  {
   "cell_type": "markdown",
   "id": "fbb6795c",
   "metadata": {},
   "source": [
    "## EDA 4"
   ]
  },
  {
   "cell_type": "code",
   "execution_count": 26,
   "id": "a1cc14a8",
   "metadata": {},
   "outputs": [
    {
     "data": {
      "text/html": [
       "<div>\n",
       "<style scoped>\n",
       "    .dataframe tbody tr th:only-of-type {\n",
       "        vertical-align: middle;\n",
       "    }\n",
       "\n",
       "    .dataframe tbody tr th {\n",
       "        vertical-align: top;\n",
       "    }\n",
       "\n",
       "    .dataframe thead th {\n",
       "        text-align: right;\n",
       "    }\n",
       "</style>\n",
       "<table border=\"1\" class=\"dataframe\">\n",
       "  <thead>\n",
       "    <tr style=\"text-align: right;\">\n",
       "      <th></th>\n",
       "      <th>experience_level</th>\n",
       "      <th>salary_in_usd</th>\n",
       "    </tr>\n",
       "  </thead>\n",
       "  <tbody>\n",
       "    <tr>\n",
       "      <th>0</th>\n",
       "      <td>EN</td>\n",
       "      <td>61643.318182</td>\n",
       "    </tr>\n",
       "    <tr>\n",
       "      <th>1</th>\n",
       "      <td>MI</td>\n",
       "      <td>87996.056338</td>\n",
       "    </tr>\n",
       "    <tr>\n",
       "      <th>2</th>\n",
       "      <td>SE</td>\n",
       "      <td>138617.292857</td>\n",
       "    </tr>\n",
       "    <tr>\n",
       "      <th>3</th>\n",
       "      <td>EX</td>\n",
       "      <td>199392.038462</td>\n",
       "    </tr>\n",
       "  </tbody>\n",
       "</table>\n",
       "</div>"
      ],
      "text/plain": [
       "  experience_level  salary_in_usd\n",
       "0               EN   61643.318182\n",
       "1               MI   87996.056338\n",
       "2               SE  138617.292857\n",
       "3               EX  199392.038462"
      ]
     },
     "execution_count": 26,
     "metadata": {},
     "output_type": "execute_result"
    }
   ],
   "source": [
    "temp2=df.groupby(['experience_level']).agg({'salary_in_usd':'mean'}).sort_values(by=['salary_in_usd']).reset_index()\n",
    "temp2"
   ]
  },
  {
   "cell_type": "code",
   "execution_count": 27,
   "id": "9b093b78",
   "metadata": {},
   "outputs": [
    {
     "name": "stderr",
     "output_type": "stream",
     "text": [
      "No handles with labels found to put in legend.\n"
     ]
    },
    {
     "data": {
      "image/png": "[encoded data removed]",
      "text/plain": [
       "<Figure size 720x504 with 1 Axes>"
      ]
     },
     "metadata": {
      "needs_background": "light"
     },
     "output_type": "display_data"
    }
   ],
   "source": [
    "plt.figure(figsize=[10,7])\n",
    "plt.ylabel('Mean Salary')\n",
    "plt.xlabel('Experience Level')\n",
    "plt.title('Salary for data science jobs at different experience levels')\n",
    "plt.plot(temp2.experience_level,temp2.salary_in_usd)\n",
    "plt.legend()\n",
    "plt.show()"
   ]
  },
  {
   "cell_type": "markdown",
   "id": "877f337e",
   "metadata": {},
   "source": [
    "# EDA 5"
   ]
  },
  {
   "cell_type": "code",
   "execution_count": 28,
   "id": "02e71bca",
   "metadata": {},
   "outputs": [
    {
     "data": {
      "text/plain": [
       "count       607.000000\n",
       "mean     112297.869852\n",
       "std       70957.259411\n",
       "min        2859.000000\n",
       "25%       62726.000000\n",
       "50%      101570.000000\n",
       "75%      150000.000000\n",
       "max      600000.000000\n",
       "Name: salary_in_usd, dtype: float64"
      ]
     },
     "execution_count": 28,
     "metadata": {},
     "output_type": "execute_result"
    }
   ],
   "source": [
    "df.salary_in_usd.describe()"
   ]
  },
  {
   "cell_type": "code",
   "execution_count": 29,
   "id": "f9676e7b",
   "metadata": {
    "scrolled": true,
    "tags": []
   },
   "outputs": [
    {
     "data": {
      "text/plain": [
       "<AxesSubplot:ylabel='Frequency'>"
      ]
     },
     "execution_count": 29,
     "metadata": {},
     "output_type": "execute_result"
    },
    {
     "data": {
      "image/png": "[encoded data removed]",
      "text/plain": [
       "<Figure size 432x288 with 1 Axes>"
      ]
     },
     "metadata": {
      "needs_background": "light"
     },
     "output_type": "display_data"
    }
   ],
   "source": [
    "df['salary_in_usd'].plot(kind='hist',bins=25)"
   ]
  },
  {
   "cell_type": "markdown",
   "id": "932d24d8-1707-4e1d-94b4-ded0fcbbfe08",
   "metadata": {},
   "source": [
    "# Feature Engineering"
   ]
  },
  {
   "cell_type": "code",
   "execution_count": 30,
   "id": "aa8c8e20-f0c4-417b-b7f0-a1ed515ade6a",
   "metadata": {},
   "outputs": [
    {
     "data": {
      "text/html": [
       "<div>\n",
       "<style scoped>\n",
       "    .dataframe tbody tr th:only-of-type {\n",
       "        vertical-align: middle;\n",
       "    }\n",
       "\n",
       "    .dataframe tbody tr th {\n",
       "        vertical-align: top;\n",
       "    }\n",
       "\n",
       "    .dataframe thead th {\n",
       "        text-align: right;\n",
       "    }\n",
       "</style>\n",
       "<table border=\"1\" class=\"dataframe\">\n",
       "  <thead>\n",
       "    <tr style=\"text-align: right;\">\n",
       "      <th></th>\n",
       "      <th>work_year</th>\n",
       "      <th>experience_level</th>\n",
       "      <th>employment_type</th>\n",
       "      <th>job_title</th>\n",
       "      <th>salary</th>\n",
       "      <th>salary_currency</th>\n",
       "      <th>salary_in_usd</th>\n",
       "      <th>employee_residence</th>\n",
       "      <th>remote_ratio</th>\n",
       "      <th>company_location</th>\n",
       "      <th>company_size</th>\n",
       "    </tr>\n",
       "  </thead>\n",
       "  <tbody>\n",
       "    <tr>\n",
       "      <th>0</th>\n",
       "      <td>2020</td>\n",
       "      <td>MI</td>\n",
       "      <td>FT</td>\n",
       "      <td>Data Scientist</td>\n",
       "      <td>70000</td>\n",
       "      <td>EUR</td>\n",
       "      <td>79833</td>\n",
       "      <td>DE</td>\n",
       "      <td>0</td>\n",
       "      <td>DE</td>\n",
       "      <td>L</td>\n",
       "    </tr>\n",
       "    <tr>\n",
       "      <th>1</th>\n",
       "      <td>2020</td>\n",
       "      <td>SE</td>\n",
       "      <td>FT</td>\n",
       "      <td>Machine Learning Scientist</td>\n",
       "      <td>260000</td>\n",
       "      <td>USD</td>\n",
       "      <td>260000</td>\n",
       "      <td>JP</td>\n",
       "      <td>0</td>\n",
       "      <td>JP</td>\n",
       "      <td>S</td>\n",
       "    </tr>\n",
       "    <tr>\n",
       "      <th>2</th>\n",
       "      <td>2020</td>\n",
       "      <td>SE</td>\n",
       "      <td>FT</td>\n",
       "      <td>Big Data Engineer</td>\n",
       "      <td>85000</td>\n",
       "      <td>GBP</td>\n",
       "      <td>109024</td>\n",
       "      <td>GB</td>\n",
       "      <td>50</td>\n",
       "      <td>GB</td>\n",
       "      <td>M</td>\n",
       "    </tr>\n",
       "    <tr>\n",
       "      <th>3</th>\n",
       "      <td>2020</td>\n",
       "      <td>MI</td>\n",
       "      <td>FT</td>\n",
       "      <td>Product Data Analyst</td>\n",
       "      <td>20000</td>\n",
       "      <td>USD</td>\n",
       "      <td>20000</td>\n",
       "      <td>HN</td>\n",
       "      <td>0</td>\n",
       "      <td>HN</td>\n",
       "      <td>S</td>\n",
       "    </tr>\n",
       "    <tr>\n",
       "      <th>4</th>\n",
       "      <td>2020</td>\n",
       "      <td>SE</td>\n",
       "      <td>FT</td>\n",
       "      <td>Machine Learning Engineer</td>\n",
       "      <td>150000</td>\n",
       "      <td>USD</td>\n",
       "      <td>150000</td>\n",
       "      <td>US</td>\n",
       "      <td>50</td>\n",
       "      <td>US</td>\n",
       "      <td>L</td>\n",
       "    </tr>\n",
       "  </tbody>\n",
       "</table>\n",
       "</div>"
      ],
      "text/plain": [
       "   work_year experience_level employment_type                   job_title  \\\n",
       "0       2020               MI              FT              Data Scientist   \n",
       "1       2020               SE              FT  Machine Learning Scientist   \n",
       "2       2020               SE              FT           Big Data Engineer   \n",
       "3       2020               MI              FT        Product Data Analyst   \n",
       "4       2020               SE              FT   Machine Learning Engineer   \n",
       "\n",
       "   salary salary_currency  salary_in_usd employee_residence  remote_ratio  \\\n",
       "0   70000             EUR          79833                 DE             0   \n",
       "1  260000             USD         260000                 JP             0   \n",
       "2   85000             GBP         109024                 GB            50   \n",
       "3   20000             USD          20000                 HN             0   \n",
       "4  150000             USD         150000                 US            50   \n",
       "\n",
       "  company_location company_size  \n",
       "0               DE            L  \n",
       "1               JP            S  \n",
       "2               GB            M  \n",
       "3               HN            S  \n",
       "4               US            L  "
      ]
     },
     "execution_count": 30,
     "metadata": {},
     "output_type": "execute_result"
    }
   ],
   "source": [
    "df.head()"
   ]
  },
  {
   "cell_type": "code",
   "execution_count": 31,
   "id": "cc792ae2-068d-4c56-9689-4239aef57c14",
   "metadata": {},
   "outputs": [],
   "source": [
    "from sklearn import preprocessing\n",
    "label_encoder = preprocessing.LabelEncoder()\n",
    "onehot_encoder = preprocessing.OneHotEncoder()"
   ]
  },
  {
   "cell_type": "code",
   "execution_count": 32,
   "id": "76d381d5-f888-48f1-9ea7-32b1a577fd70",
   "metadata": {},
   "outputs": [
    {
     "data": {
      "text/html": [
       "<div>\n",
       "<style scoped>\n",
       "    .dataframe tbody tr th:only-of-type {\n",
       "        vertical-align: middle;\n",
       "    }\n",
       "\n",
       "    .dataframe tbody tr th {\n",
       "        vertical-align: top;\n",
       "    }\n",
       "\n",
       "    .dataframe thead th {\n",
       "        text-align: right;\n",
       "    }\n",
       "</style>\n",
       "<table border=\"1\" class=\"dataframe\">\n",
       "  <thead>\n",
       "    <tr style=\"text-align: right;\">\n",
       "      <th></th>\n",
       "      <th>experience_level</th>\n",
       "      <th>employee_residence</th>\n",
       "      <th>remote_ratio</th>\n",
       "      <th>company_size_large</th>\n",
       "      <th>company_size_medium</th>\n",
       "      <th>company_size_small</th>\n",
       "      <th>company_location</th>\n",
       "    </tr>\n",
       "  </thead>\n",
       "  <tbody>\n",
       "    <tr>\n",
       "      <th>0</th>\n",
       "      <td>2</td>\n",
       "      <td>14</td>\n",
       "      <td>0</td>\n",
       "      <td>1.0</td>\n",
       "      <td>0.0</td>\n",
       "      <td>0.0</td>\n",
       "      <td>12</td>\n",
       "    </tr>\n",
       "    <tr>\n",
       "      <th>1</th>\n",
       "      <td>3</td>\n",
       "      <td>32</td>\n",
       "      <td>0</td>\n",
       "      <td>0.0</td>\n",
       "      <td>0.0</td>\n",
       "      <td>1.0</td>\n",
       "      <td>29</td>\n",
       "    </tr>\n",
       "    <tr>\n",
       "      <th>2</th>\n",
       "      <td>3</td>\n",
       "      <td>20</td>\n",
       "      <td>50</td>\n",
       "      <td>0.0</td>\n",
       "      <td>1.0</td>\n",
       "      <td>0.0</td>\n",
       "      <td>18</td>\n",
       "    </tr>\n",
       "    <tr>\n",
       "      <th>3</th>\n",
       "      <td>2</td>\n",
       "      <td>23</td>\n",
       "      <td>0</td>\n",
       "      <td>0.0</td>\n",
       "      <td>0.0</td>\n",
       "      <td>1.0</td>\n",
       "      <td>20</td>\n",
       "    </tr>\n",
       "    <tr>\n",
       "      <th>4</th>\n",
       "      <td>3</td>\n",
       "      <td>55</td>\n",
       "      <td>50</td>\n",
       "      <td>1.0</td>\n",
       "      <td>0.0</td>\n",
       "      <td>0.0</td>\n",
       "      <td>48</td>\n",
       "    </tr>\n",
       "  </tbody>\n",
       "</table>\n",
       "</div>"
      ],
      "text/plain": [
       "   experience_level  employee_residence  remote_ratio  company_size_large  \\\n",
       "0                 2                  14             0                 1.0   \n",
       "1                 3                  32             0                 0.0   \n",
       "2                 3                  20            50                 0.0   \n",
       "3                 2                  23             0                 0.0   \n",
       "4                 3                  55            50                 1.0   \n",
       "\n",
       "   company_size_medium  company_size_small  company_location  \n",
       "0                  0.0                 0.0                12  \n",
       "1                  0.0                 1.0                29  \n",
       "2                  1.0                 0.0                18  \n",
       "3                  0.0                 1.0                20  \n",
       "4                  0.0                 0.0                48  "
      ]
     },
     "execution_count": 32,
     "metadata": {},
     "output_type": "execute_result"
    }
   ],
   "source": [
    "final_df = pd.DataFrame()\n",
    "\n",
    "# experience_level \n",
    "final_df['experience_level'] = label_encoder.fit_transform(df['experience_level'])\n",
    "\n",
    "\n",
    "# employment_type \n",
    "final_df['employee_residence'] = label_encoder.fit_transform(df['employee_residence'])\n",
    "\n",
    "# remote_ratio \n",
    "final_df['remote_ratio'] = df['remote_ratio'].astype('int')\n",
    "\n",
    "# company_size \n",
    "a = onehot_encoder.fit_transform(df[['company_size']]).toarray()\n",
    "final_df[['company_size_large','company_size_medium','company_size_small']] = pd.DataFrame(a)\n",
    "\n",
    "# company_location \n",
    "final_df['company_location'] = label_encoder.fit_transform(df['company_location'])\n",
    "\n",
    "final_df.head()"
   ]
  },
  {
   "cell_type": "code",
   "execution_count": 33,
   "id": "45f16751-7c01-49bb-a5be-9127cf05cd6a",
   "metadata": {},
   "outputs": [
    {
     "data": {
      "text/html": [
       "<div>\n",
       "<style scoped>\n",
       "    .dataframe tbody tr th:only-of-type {\n",
       "        vertical-align: middle;\n",
       "    }\n",
       "\n",
       "    .dataframe tbody tr th {\n",
       "        vertical-align: top;\n",
       "    }\n",
       "\n",
       "    .dataframe thead th {\n",
       "        text-align: right;\n",
       "    }\n",
       "</style>\n",
       "<table border=\"1\" class=\"dataframe\">\n",
       "  <thead>\n",
       "    <tr style=\"text-align: right;\">\n",
       "      <th></th>\n",
       "      <th>experience_level</th>\n",
       "      <th>employee_residence</th>\n",
       "      <th>remote_ratio</th>\n",
       "      <th>company_size_large</th>\n",
       "      <th>company_size_medium</th>\n",
       "      <th>company_size_small</th>\n",
       "      <th>company_location</th>\n",
       "      <th>Average_salary_for_job_titles</th>\n",
       "    </tr>\n",
       "  </thead>\n",
       "  <tbody>\n",
       "    <tr>\n",
       "      <th>0</th>\n",
       "      <td>2</td>\n",
       "      <td>14</td>\n",
       "      <td>0</td>\n",
       "      <td>1.0</td>\n",
       "      <td>0.0</td>\n",
       "      <td>0.0</td>\n",
       "      <td>12</td>\n",
       "      <td>108187.832168</td>\n",
       "    </tr>\n",
       "    <tr>\n",
       "      <th>1</th>\n",
       "      <td>3</td>\n",
       "      <td>32</td>\n",
       "      <td>0</td>\n",
       "      <td>0.0</td>\n",
       "      <td>0.0</td>\n",
       "      <td>1.0</td>\n",
       "      <td>29</td>\n",
       "      <td>158412.500000</td>\n",
       "    </tr>\n",
       "    <tr>\n",
       "      <th>2</th>\n",
       "      <td>3</td>\n",
       "      <td>20</td>\n",
       "      <td>50</td>\n",
       "      <td>0.0</td>\n",
       "      <td>1.0</td>\n",
       "      <td>0.0</td>\n",
       "      <td>18</td>\n",
       "      <td>51974.000000</td>\n",
       "    </tr>\n",
       "    <tr>\n",
       "      <th>3</th>\n",
       "      <td>2</td>\n",
       "      <td>23</td>\n",
       "      <td>0</td>\n",
       "      <td>0.0</td>\n",
       "      <td>0.0</td>\n",
       "      <td>1.0</td>\n",
       "      <td>20</td>\n",
       "      <td>13036.000000</td>\n",
       "    </tr>\n",
       "    <tr>\n",
       "      <th>4</th>\n",
       "      <td>3</td>\n",
       "      <td>55</td>\n",
       "      <td>50</td>\n",
       "      <td>1.0</td>\n",
       "      <td>0.0</td>\n",
       "      <td>0.0</td>\n",
       "      <td>48</td>\n",
       "      <td>104880.146341</td>\n",
       "    </tr>\n",
       "  </tbody>\n",
       "</table>\n",
       "</div>"
      ],
      "text/plain": [
       "   experience_level  employee_residence  remote_ratio  company_size_large  \\\n",
       "0                 2                  14             0                 1.0   \n",
       "1                 3                  32             0                 0.0   \n",
       "2                 3                  20            50                 0.0   \n",
       "3                 2                  23             0                 0.0   \n",
       "4                 3                  55            50                 1.0   \n",
       "\n",
       "   company_size_medium  company_size_small  company_location  \\\n",
       "0                  0.0                 0.0                12   \n",
       "1                  0.0                 1.0                29   \n",
       "2                  1.0                 0.0                18   \n",
       "3                  0.0                 1.0                20   \n",
       "4                  0.0                 0.0                48   \n",
       "\n",
       "   Average_salary_for_job_titles  \n",
       "0                  108187.832168  \n",
       "1                  158412.500000  \n",
       "2                   51974.000000  \n",
       "3                   13036.000000  \n",
       "4                  104880.146341  "
      ]
     },
     "execution_count": 33,
     "metadata": {},
     "output_type": "execute_result"
    }
   ],
   "source": [
    "temp = df.groupby('job_title').agg({'salary_in_usd':'mean'}).reset_index()\n",
    "temp = temp.append(pd.DataFrame({'job_title':'Others','salary_in_usd':temp['salary_in_usd'].mean()},index=[0])).reset_index(drop=True)\n",
    "final_df['job_title'] = df['job_title']\n",
    "temp.columns = ['job_title','Average_salary_for_job_titles']\n",
    "final_df = final_df.merge(temp,on='job_title',how='left')\n",
    "final_df.drop(['job_title'],axis=1,inplace=True)\n",
    "final_df.head()"
   ]
  },
  {
   "cell_type": "code",
   "execution_count": 34,
   "id": "0c8f54d0-916d-47cf-a4da-6651710e26df",
   "metadata": {},
   "outputs": [
    {
     "data": {
      "text/plain": [
       "experience_level                 0\n",
       "employee_residence               0\n",
       "remote_ratio                     0\n",
       "company_size_large               0\n",
       "company_size_medium              0\n",
       "company_size_small               0\n",
       "company_location                 0\n",
       "Average_salary_for_job_titles    0\n",
       "salary                           0\n",
       "dtype: int64"
      ]
     },
     "execution_count": 34,
     "metadata": {},
     "output_type": "execute_result"
    }
   ],
   "source": [
    "final_df['salary'] = df['salary_in_usd']\n",
    "final_df.isnull().sum()"
   ]
  },
  {
   "cell_type": "code",
   "execution_count": 35,
   "id": "9a4f37ec",
   "metadata": {},
   "outputs": [
    {
     "data": {
      "text/html": [
       "<div>\n",
       "<style scoped>\n",
       "    .dataframe tbody tr th:only-of-type {\n",
       "        vertical-align: middle;\n",
       "    }\n",
       "\n",
       "    .dataframe tbody tr th {\n",
       "        vertical-align: top;\n",
       "    }\n",
       "\n",
       "    .dataframe thead th {\n",
       "        text-align: right;\n",
       "    }\n",
       "</style>\n",
       "<table border=\"1\" class=\"dataframe\">\n",
       "  <thead>\n",
       "    <tr style=\"text-align: right;\">\n",
       "      <th></th>\n",
       "      <th>experience_level</th>\n",
       "      <th>employee_residence</th>\n",
       "      <th>remote_ratio</th>\n",
       "      <th>company_size_large</th>\n",
       "      <th>company_size_medium</th>\n",
       "      <th>company_size_small</th>\n",
       "      <th>company_location</th>\n",
       "      <th>Average_salary_for_job_titles</th>\n",
       "      <th>salary</th>\n",
       "    </tr>\n",
       "  </thead>\n",
       "  <tbody>\n",
       "    <tr>\n",
       "      <th>experience_level</th>\n",
       "      <td>1.000000</td>\n",
       "      <td>0.226543</td>\n",
       "      <td>0.053628</td>\n",
       "      <td>-0.076332</td>\n",
       "      <td>0.230590</td>\n",
       "      <td>-0.230497</td>\n",
       "      <td>0.247133</td>\n",
       "      <td>0.100919</td>\n",
       "      <td>0.315312</td>\n",
       "    </tr>\n",
       "    <tr>\n",
       "      <th>employee_residence</th>\n",
       "      <td>0.226543</td>\n",
       "      <td>1.000000</td>\n",
       "      <td>0.157299</td>\n",
       "      <td>-0.025962</td>\n",
       "      <td>0.155949</td>\n",
       "      <td>-0.190902</td>\n",
       "      <td>0.897704</td>\n",
       "      <td>0.142563</td>\n",
       "      <td>0.452501</td>\n",
       "    </tr>\n",
       "    <tr>\n",
       "      <th>remote_ratio</th>\n",
       "      <td>0.053628</td>\n",
       "      <td>0.157299</td>\n",
       "      <td>1.000000</td>\n",
       "      <td>-0.038243</td>\n",
       "      <td>0.042989</td>\n",
       "      <td>-0.010206</td>\n",
       "      <td>0.169083</td>\n",
       "      <td>0.087209</td>\n",
       "      <td>0.132122</td>\n",
       "    </tr>\n",
       "    <tr>\n",
       "      <th>company_size_large</th>\n",
       "      <td>-0.076332</td>\n",
       "      <td>-0.025962</td>\n",
       "      <td>-0.038243</td>\n",
       "      <td>1.000000</td>\n",
       "      <td>-0.749422</td>\n",
       "      <td>-0.276914</td>\n",
       "      <td>-0.020801</td>\n",
       "      <td>0.141129</td>\n",
       "      <td>0.068157</td>\n",
       "    </tr>\n",
       "    <tr>\n",
       "      <th>company_size_medium</th>\n",
       "      <td>0.230590</td>\n",
       "      <td>0.155949</td>\n",
       "      <td>0.042989</td>\n",
       "      <td>-0.749422</td>\n",
       "      <td>1.000000</td>\n",
       "      <td>-0.428676</td>\n",
       "      <td>0.126338</td>\n",
       "      <td>-0.081930</td>\n",
       "      <td>0.069999</td>\n",
       "    </tr>\n",
       "    <tr>\n",
       "      <th>company_size_small</th>\n",
       "      <td>-0.230497</td>\n",
       "      <td>-0.190902</td>\n",
       "      <td>-0.010206</td>\n",
       "      <td>-0.276914</td>\n",
       "      <td>-0.428676</td>\n",
       "      <td>1.000000</td>\n",
       "      <td>-0.154971</td>\n",
       "      <td>-0.073672</td>\n",
       "      <td>-0.194593</td>\n",
       "    </tr>\n",
       "    <tr>\n",
       "      <th>company_location</th>\n",
       "      <td>0.247133</td>\n",
       "      <td>0.897704</td>\n",
       "      <td>0.169083</td>\n",
       "      <td>-0.020801</td>\n",
       "      <td>0.126338</td>\n",
       "      <td>-0.154971</td>\n",
       "      <td>1.000000</td>\n",
       "      <td>0.126430</td>\n",
       "      <td>0.428994</td>\n",
       "    </tr>\n",
       "    <tr>\n",
       "      <th>Average_salary_for_job_titles</th>\n",
       "      <td>0.100919</td>\n",
       "      <td>0.142563</td>\n",
       "      <td>0.087209</td>\n",
       "      <td>0.141129</td>\n",
       "      <td>-0.081930</td>\n",
       "      <td>-0.073672</td>\n",
       "      <td>0.126430</td>\n",
       "      <td>1.000000</td>\n",
       "      <td>0.501080</td>\n",
       "    </tr>\n",
       "    <tr>\n",
       "      <th>salary</th>\n",
       "      <td>0.315312</td>\n",
       "      <td>0.452501</td>\n",
       "      <td>0.132122</td>\n",
       "      <td>0.068157</td>\n",
       "      <td>0.069999</td>\n",
       "      <td>-0.194593</td>\n",
       "      <td>0.428994</td>\n",
       "      <td>0.501080</td>\n",
       "      <td>1.000000</td>\n",
       "    </tr>\n",
       "  </tbody>\n",
       "</table>\n",
       "</div>"
      ],
      "text/plain": [
       "                               experience_level  employee_residence  \\\n",
       "experience_level                       1.000000            0.226543   \n",
       "employee_residence                     0.226543            1.000000   \n",
       "remote_ratio                           0.053628            0.157299   \n",
       "company_size_large                    -0.076332           -0.025962   \n",
       "company_size_medium                    0.230590            0.155949   \n",
       "company_size_small                    -0.230497           -0.190902   \n",
       "company_location                       0.247133            0.897704   \n",
       "Average_salary_for_job_titles          0.100919            0.142563   \n",
       "salary                                 0.315312            0.452501   \n",
       "\n",
       "                               remote_ratio  company_size_large  \\\n",
       "experience_level                   0.053628           -0.076332   \n",
       "employee_residence                 0.157299           -0.025962   \n",
       "remote_ratio                       1.000000           -0.038243   \n",
       "company_size_large                -0.038243            1.000000   \n",
       "company_size_medium                0.042989           -0.749422   \n",
       "company_size_small                -0.010206           -0.276914   \n",
       "company_location                   0.169083           -0.020801   \n",
       "Average_salary_for_job_titles      0.087209            0.141129   \n",
       "salary                             0.132122            0.068157   \n",
       "\n",
       "                               company_size_medium  company_size_small  \\\n",
       "experience_level                          0.230590           -0.230497   \n",
       "employee_residence                        0.155949           -0.190902   \n",
       "remote_ratio                              0.042989           -0.010206   \n",
       "company_size_large                       -0.749422           -0.276914   \n",
       "company_size_medium                       1.000000           -0.428676   \n",
       "company_size_small                       -0.428676            1.000000   \n",
       "company_location                          0.126338           -0.154971   \n",
       "Average_salary_for_job_titles            -0.081930           -0.073672   \n",
       "salary                                    0.069999           -0.194593   \n",
       "\n",
       "                               company_location  \\\n",
       "experience_level                       0.247133   \n",
       "employee_residence                     0.897704   \n",
       "remote_ratio                           0.169083   \n",
       "company_size_large                    -0.020801   \n",
       "company_size_medium                    0.126338   \n",
       "company_size_small                    -0.154971   \n",
       "company_location                       1.000000   \n",
       "Average_salary_for_job_titles          0.126430   \n",
       "salary                                 0.428994   \n",
       "\n",
       "                               Average_salary_for_job_titles    salary  \n",
       "experience_level                                    0.100919  0.315312  \n",
       "employee_residence                                  0.142563  0.452501  \n",
       "remote_ratio                                        0.087209  0.132122  \n",
       "company_size_large                                  0.141129  0.068157  \n",
       "company_size_medium                                -0.081930  0.069999  \n",
       "company_size_small                                 -0.073672 -0.194593  \n",
       "company_location                                    0.126430  0.428994  \n",
       "Average_salary_for_job_titles                       1.000000  0.501080  \n",
       "salary                                              0.501080  1.000000  "
      ]
     },
     "execution_count": 35,
     "metadata": {},
     "output_type": "execute_result"
    }
   ],
   "source": [
    "final_df.corr()"
   ]
  },
  {
   "cell_type": "markdown",
   "id": "52b1e17f-9dfc-4016-8621-1f0bfe81736f",
   "metadata": {},
   "source": [
    "# Building Sample model for checking accuracy"
   ]
  },
  {
   "cell_type": "code",
   "execution_count": 36,
   "id": "e1882964",
   "metadata": {},
   "outputs": [],
   "source": [
    "from sklearn.ensemble import RandomForestRegressor\n",
    "from sklearn.model_selection import train_test_split\n",
    "from sklearn.metrics import mean_squared_error,mean_absolute_error"
   ]
  },
  {
   "cell_type": "code",
   "execution_count": 37,
   "id": "351f1f4f",
   "metadata": {},
   "outputs": [
    {
     "data": {
      "text/plain": [
       "((485, 8), (122, 8), (485,), (122,))"
      ]
     },
     "execution_count": 37,
     "metadata": {},
     "output_type": "execute_result"
    }
   ],
   "source": [
    "X_train, X_test, Y_train, Y_test = train_test_split(final_df.drop(['salary'],axis=1),final_df['salary'],\n",
    "                                                    test_size=0.2,random_state=54)\n",
    "\n",
    "X_train.shape, X_test.shape, Y_train.shape, Y_test.shape"
   ]
  },
  {
   "cell_type": "code",
   "execution_count": 38,
   "id": "db60de98-d87d-410c-8c45-8ba6e6a17a99",
   "metadata": {},
   "outputs": [
    {
     "data": {
      "text/html": [
       "<div>\n",
       "<style scoped>\n",
       "    .dataframe tbody tr th:only-of-type {\n",
       "        vertical-align: middle;\n",
       "    }\n",
       "\n",
       "    .dataframe tbody tr th {\n",
       "        vertical-align: top;\n",
       "    }\n",
       "\n",
       "    .dataframe thead th {\n",
       "        text-align: right;\n",
       "    }\n",
       "</style>\n",
       "<table border=\"1\" class=\"dataframe\">\n",
       "  <thead>\n",
       "    <tr style=\"text-align: right;\">\n",
       "      <th></th>\n",
       "      <th>experience_level</th>\n",
       "      <th>employee_residence</th>\n",
       "      <th>remote_ratio</th>\n",
       "      <th>company_size_large</th>\n",
       "      <th>company_size_medium</th>\n",
       "      <th>company_size_small</th>\n",
       "      <th>company_location</th>\n",
       "      <th>Average_salary_for_job_titles</th>\n",
       "    </tr>\n",
       "  </thead>\n",
       "  <tbody>\n",
       "    <tr>\n",
       "      <th>204</th>\n",
       "      <td>2</td>\n",
       "      <td>55</td>\n",
       "      <td>100</td>\n",
       "      <td>1.0</td>\n",
       "      <td>0.0</td>\n",
       "      <td>0.0</td>\n",
       "      <td>48</td>\n",
       "      <td>108187.832168</td>\n",
       "    </tr>\n",
       "    <tr>\n",
       "      <th>261</th>\n",
       "      <td>3</td>\n",
       "      <td>14</td>\n",
       "      <td>50</td>\n",
       "      <td>1.0</td>\n",
       "      <td>0.0</td>\n",
       "      <td>0.0</td>\n",
       "      <td>12</td>\n",
       "      <td>92893.061856</td>\n",
       "    </tr>\n",
       "    <tr>\n",
       "      <th>571</th>\n",
       "      <td>3</td>\n",
       "      <td>55</td>\n",
       "      <td>100</td>\n",
       "      <td>0.0</td>\n",
       "      <td>1.0</td>\n",
       "      <td>0.0</td>\n",
       "      <td>48</td>\n",
       "      <td>108187.832168</td>\n",
       "    </tr>\n",
       "    <tr>\n",
       "      <th>171</th>\n",
       "      <td>2</td>\n",
       "      <td>20</td>\n",
       "      <td>100</td>\n",
       "      <td>1.0</td>\n",
       "      <td>0.0</td>\n",
       "      <td>0.0</td>\n",
       "      <td>18</td>\n",
       "      <td>112725.000000</td>\n",
       "    </tr>\n",
       "    <tr>\n",
       "      <th>139</th>\n",
       "      <td>0</td>\n",
       "      <td>55</td>\n",
       "      <td>100</td>\n",
       "      <td>0.0</td>\n",
       "      <td>1.0</td>\n",
       "      <td>0.0</td>\n",
       "      <td>48</td>\n",
       "      <td>108187.832168</td>\n",
       "    </tr>\n",
       "  </tbody>\n",
       "</table>\n",
       "</div>"
      ],
      "text/plain": [
       "     experience_level  employee_residence  remote_ratio  company_size_large  \\\n",
       "204                 2                  55           100                 1.0   \n",
       "261                 3                  14            50                 1.0   \n",
       "571                 3                  55           100                 0.0   \n",
       "171                 2                  20           100                 1.0   \n",
       "139                 0                  55           100                 0.0   \n",
       "\n",
       "     company_size_medium  company_size_small  company_location  \\\n",
       "204                  0.0                 0.0                48   \n",
       "261                  0.0                 0.0                12   \n",
       "571                  1.0                 0.0                48   \n",
       "171                  0.0                 0.0                18   \n",
       "139                  1.0                 0.0                48   \n",
       "\n",
       "     Average_salary_for_job_titles  \n",
       "204                  108187.832168  \n",
       "261                   92893.061856  \n",
       "571                  108187.832168  \n",
       "171                  112725.000000  \n",
       "139                  108187.832168  "
      ]
     },
     "execution_count": 38,
     "metadata": {},
     "output_type": "execute_result"
    }
   ],
   "source": [
    "X_train.head()"
   ]
  },
  {
   "cell_type": "code",
   "execution_count": 39,
   "id": "ef651b60-68f7-4be3-ba49-c17a54bfb0ec",
   "metadata": {},
   "outputs": [
    {
     "name": "stdout",
     "output_type": "stream",
     "text": [
      "Mean-Squared-Error : 2668582993.2436314\n",
      "Root-Mean-Squared-Accuracy : 51658.329369460174\n",
      "Mean-Absolute-Error : 34528.930539507906\n"
     ]
    },
    {
     "data": {
      "image/png": "[encoded data removed]",
      "text/plain": [
       "<Figure size 432x288 with 1 Axes>"
      ]
     },
     "metadata": {
      "needs_background": "light"
     },
     "output_type": "display_data"
    }
   ],
   "source": [
    "model = RandomForestRegressor(n_estimators=200,max_depth=3)\n",
    "model.fit(X_train,Y_train)\n",
    "\n",
    "# Checking Accuracy\n",
    "predicts = model.predict(X_test)\n",
    "print('Mean-Squared-Error :',mean_squared_error(Y_test,predicts,squared=True))\n",
    "print('Root-Mean-Squared-Accuracy :',mean_squared_error(Y_test,predicts,squared=False))\n",
    "print('Mean-Absolute-Error :',mean_absolute_error(Y_test,predicts))\n",
    "\n",
    "importances = model.feature_importances_\n",
    "\n",
    "sorted_indices = np.argsort(importances)[::-1]\n",
    "feat_labels = X_test.columns\n",
    "\n",
    "plt.title('Feature Importance')\n",
    "plt.bar(range(X_train.shape[1]), importances[sorted_indices],align='center')\n",
    "plt.xticks(range(X_train.shape[1]),X_train.columns[sorted_indices], rotation=90)\n",
    "plt.tight_layout()\n",
    "plt.show()"
   ]
  },
  {
   "cell_type": "code",
   "execution_count": 44,
   "id": "fe48fce6-ba17-42fa-895d-231e38168243",
   "metadata": {},
   "outputs": [],
   "source": [
    "import pickle\n",
    "with open(r'C:\\Users\\Yash\\Desktop\\ML_Project\\api_backend\\random_forest.pickle','wb') as model_file:\n",
    "    pickle.dump(model,model_file)"
   ]
  },
  {
   "cell_type": "code",
   "execution_count": null,
   "id": "9d3d2047-8d4b-45f2-afb9-724643235f03",
   "metadata": {},
   "outputs": [],
   "source": []
  },
  {
   "cell_type": "code",
   "execution_count": null,
   "id": "31ba7356-128a-4761-b614-c3caef137f05",
   "metadata": {},
   "outputs": [],
   "source": []
  }
 ],
 "metadata": {
  "kernelspec": {
   "display_name": "Python 3",
   "language": "python",
   "name": "python3"
  },
  "language_info": {
   "codemirror_mode": {
    "name": "ipython",
    "version": 3
   },
   "file_extension": ".py",
   "mimetype": "text/x-python",
   "name": "python",
   "nbconvert_exporter": "python",
   "pygments_lexer": "ipython3",
   "version": "3.6.13"
  }
 },
 "nbformat": 4,
 "nbformat_minor": 5
}
